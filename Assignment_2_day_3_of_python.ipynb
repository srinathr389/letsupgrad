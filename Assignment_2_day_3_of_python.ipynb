{
  "nbformat": 4,
  "nbformat_minor": 0,
  "metadata": {
    "colab": {
      "name": "Assignment 2 day 3 of python.ipynb",
      "provenance": []
    },
    "kernelspec": {
      "name": "python3",
      "display_name": "Python 3"
    }
  },
  "cells": [
    {
      "cell_type": "markdown",
      "metadata": {
        "id": "uPUtRiZdLaRw"
      },
      "source": [
        "**Assignment 2**\r\n",
        "\r\n",
        "---\r\n",
        "\r\n",
        "\r\n",
        "You all are pilots, you have to land a plane, the altitude required for landing a plane is 1000ft, if itis less than that tell the pilot to land the plane, or it is more than that but less than 5000ft ask thepilot to \"come down to 1000ft\", else if it is more than 5000ft ask the pilot to \"go around and trylater\"\r\n",
        "\r\n",
        "---\r\n",
        "\r\n",
        "\r\n",
        "Example: \r\n",
        "Input - 1000\r\n",
        "**Output** - Safe to land\r\n",
        "\r\n",
        "---\r\n",
        "\r\n",
        "\r\n",
        "Example: \r\n",
        "Input - 4500\r\n",
        "**Output** - Bring down to 1000\r\n",
        "\r\n",
        "---\r\n",
        "\r\n",
        "\r\n",
        "Example: \r\n",
        "Input 6500\r\n",
        "**output** - Turn Aroun"
      ]
    },
    {
      "cell_type": "code",
      "metadata": {
        "colab": {
          "base_uri": "https://localhost:8080/"
        },
        "id": "xJLwOMR7MUYE",
        "outputId": "f04dd599-2d02-4cd7-f022-4ba9835ab75f"
      },
      "source": [
        "altitude=int(input(\"enter the altitude to land a plane\"))\r\n",
        "if altitude <1000:\r\n",
        "  print(\"Land the plane\")\r\n",
        "elif altitude>1000 and altitude<=5000:\r\n",
        "  print(\"Come down to 1000ft\")\r\n",
        "elif altitude>5000:\r\n",
        "  print(\"Go around and try later & reduce altitude to 1000m\")\r\n",
        "else: #altitude = 1000m safe to land.\r\n",
        "  print(\"Safe to land\")"
      ],
      "execution_count": 32,
      "outputs": [
        {
          "output_type": "stream",
          "text": [
            "enter the altitude to land a plane3500\n",
            "Come down to 1000ft\n"
          ],
          "name": "stdout"
        }
      ]
    },
    {
      "cell_type": "markdown",
      "metadata": {
        "id": "cYO2PeHlXqgN"
      },
      "source": [
        "Name=srinathreddy\r\n",
        "email id= srinathr389@gmail.com\r\n"
      ]
    }
  ]
}